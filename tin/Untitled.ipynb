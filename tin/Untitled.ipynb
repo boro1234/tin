{
 "cells": [
  {
   "cell_type": "code",
   "execution_count": null,
   "metadata": {},
   "outputs": [
    {
     "name": "stdout",
     "output_type": "stream",
     "text": [
      "WARNING:tensorflow:From C:\\Users\\amama\\Anaconda3\\envs\\tf140\\lib\\site-packages\\tensorflow\\python\\ops\\math_grad.py:1250: add_dispatch_support.<locals>.wrapper (from tensorflow.python.ops.array_ops) is deprecated and will be removed in a future version.\n",
      "Instructions for updating:\n",
      "Use tf.where in 2.0, which has the same broadcast rule as np.where\n",
      "Epoch 1/50\n",
      "750/750 [==============================] - 17s 22ms/step - loss: 1.5530 - acc: 0.2973\n",
      "Epoch 2/50\n",
      "384/750 [==============>...............] - ETA: 6s - loss: 1.4017 - acc: 0.3646"
     ]
    }
   ],
   "source": [
    "from keras.models import Sequential\n",
    "from keras.layers import Conv2D,MaxPooling2D\n",
    "from keras.layers import Activation,Dropout,Flatten,Dense\n",
    "from keras.utils import np_utils\n",
    "from keras.optimizers import RMSprop\n",
    "import numpy as np\n",
    "\n",
    "classes = [\"bottle\",\"chimney\",\"mushroom\",\"sausage\",\"snake\"]\n",
    "num_classes = len(classes)\n",
    "image_size = 50\n",
    "\n",
    "def main():\n",
    "    X_train,X_test,Y_train,Y_test = np.load(\"./tin.npy\",allow_pickle=True)\n",
    "    X_train = X_train.astype(\"float\")/255\n",
    "    X_test = X_test.astype(\"float\")/255\n",
    "    Y_train = np_utils.to_categorical(Y_train,num_classes)\n",
    "    Y_test = np_utils.to_categorical(Y_test,num_classes)\n",
    "\n",
    "    model = model_train(X_train,Y_train)\n",
    "    model_eval(model,X_test,Y_test)\n",
    "\n",
    "def model_train(X, Y):\n",
    "    model = Sequential()\n",
    "    model.add(Conv2D(32, (3, 3), padding='same',\n",
    "                 input_shape=X.shape[1:]))\n",
    "    model.add(Activation(\"relu\"))\n",
    "    model.add(Conv2D(32,(3,3)))\n",
    "    model.add(Activation(\"relu\"))\n",
    "    model.add(MaxPooling2D(pool_size=(2,2)))\n",
    "    model.add(Dropout(0.25))\n",
    "\n",
    "    model.add(Conv2D(64,(3,3),padding=\"same\"))\n",
    "    model.add(Activation(\"relu\"))\n",
    "    model.add(Conv2D(64,(3,3)))\n",
    "    model.add(Activation(\"relu\"))\n",
    "    model.add(MaxPooling2D(pool_size=(2,2)))\n",
    "    model.add(Dropout(0.25))\n",
    "\n",
    "    model.add(Flatten())\n",
    "    model.add(Dense(512))\n",
    "    model.add(Activation(\"relu\"))\n",
    "    model.add(Dropout(0.5))\n",
    "    model.add(Dense(5))\n",
    "    model.add(Activation(\"softmax\"))\n",
    "\n",
    "    opt = RMSprop(lr=0.0001, decay=1e-6)\n",
    "\n",
    "    model.compile(loss=\"categorical_crossentropy\",\n",
    "                     optimizer=opt,metrics=[\"accuracy\"] )\n",
    "\n",
    "\n",
    "    model.fit(X, Y, batch_size = 32, epochs = 50)\n",
    "\n",
    "    model.save(\"./tin_cnn.h5\")\n",
    "\n",
    "    return model\n",
    "\n",
    "def model_eval(model,X,Y):\n",
    "    scores =model.evaluate(X,Y,verbose=1)\n",
    "    print(\"Test Loss:\",scores[0])\n",
    "    print(\"Test Accuracy:\",scores[1])\n",
    "\n",
    "if __name__ == \"__main__\":\n",
    "    main()"
   ]
  },
  {
   "cell_type": "code",
   "execution_count": null,
   "metadata": {},
   "outputs": [],
   "source": []
  }
 ],
 "metadata": {
  "kernelspec": {
   "display_name": "Python 3",
   "language": "python",
   "name": "python3"
  },
  "language_info": {
   "codemirror_mode": {
    "name": "ipython",
    "version": 3
   },
   "file_extension": ".py",
   "mimetype": "text/x-python",
   "name": "python",
   "nbconvert_exporter": "python",
   "pygments_lexer": "ipython3",
   "version": "3.6.9"
  }
 },
 "nbformat": 4,
 "nbformat_minor": 2
}
